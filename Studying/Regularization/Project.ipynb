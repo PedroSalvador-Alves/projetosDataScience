{
 "cells": [
  {
   "cell_type": "code",
   "execution_count": null,
   "id": "8ebe70cd",
   "metadata": {},
   "outputs": [],
   "source": [
    "###############################################\n",
    "# Author: Pedro Igor Salvador Alves\n",
    "# Topic: Comparing effects of Linear, Ridge and Lasso Regression\n",
    "# Start Date: 01/01/2022\n",
    "# Type: Data Science - Machine Learning \n",
    "###############################################"
   ]
  },
  {
   "cell_type": "code",
   "execution_count": 2,
   "id": "fa0f0d58",
   "metadata": {},
   "outputs": [],
   "source": [
    "import pandas as pd\n",
    "import seaborn as sns\n",
    "\n",
    "dataset = pd.read_csv(\"data/mcl.csv\")\n",
    "\n",
    "X = dataset.iloc[:, :-1]\n",
    "Y = dataset.iloc[:, -1]"
   ]
  },
  {
   "cell_type": "code",
   "execution_count": 3,
   "id": "dae2a306",
   "metadata": {},
   "outputs": [
    {
     "data": {
      "text/plain": [
       "<AxesSubplot:>"
      ]
     },
     "execution_count": 3,
     "metadata": {},
     "output_type": "execute_result"
    },
    {
     "data": {
      "image/png": "[encoded data removed]",
      "text/plain": [
       "<Figure size 432x288 with 2 Axes>"
      ]
     },
     "metadata": {
      "needs_background": "light"
     },
     "output_type": "display_data"
    }
   ],
   "source": [
    "sns.heatmap(X.corr())"
   ]
  },
  {
   "cell_type": "code",
   "execution_count": 5,
   "id": "d1a88ae5",
   "metadata": {},
   "outputs": [],
   "source": [
    "from sklearn.linear_model import Ridge, Lasso, LinearRegression"
   ]
  },
  {
   "cell_type": "code",
   "execution_count": 6,
   "id": "57a00e94",
   "metadata": {},
   "outputs": [],
   "source": [
    "linreg = LinearRegression()\n",
    "linreg.fit(X, Y)\n",
    "\n",
    "linreg_coeff = linreg.coef_\n",
    "linreg_intercept = linreg.intercept_"
   ]
  },
  {
   "cell_type": "code",
   "execution_count": 7,
   "id": "f258b7bf",
   "metadata": {},
   "outputs": [],
   "source": [
    "#lasso eliminates features that are highly correlated\n",
    "#its uses makes sense when some features can be dropped\n",
    "lasso = Lasso(alpha = 10)\n",
    "lasso.fit(X, Y)\n",
    "\n",
    "lasso_coeff = lasso.coef_\n",
    "lasso_intercept = lasso.intercept_"
   ]
  },
  {
   "cell_type": "code",
   "execution_count": 8,
   "id": "ad892a7b",
   "metadata": {},
   "outputs": [],
   "source": [
    "#ridge makes correlated features coefficients smaller\n",
    "#its uses makes sense when no features can be dropped\n",
    "ridge = Ridge(alpha = 100)\n",
    "ridge.fit(X, Y)\n",
    "\n",
    "ridge_coeff = ridge.coef_\n",
    "ridge_intercept = ridge.intercept_"
   ]
  },
  {
   "cell_type": "code",
   "execution_count": 9,
   "id": "7aae6228",
   "metadata": {},
   "outputs": [
    {
     "data": {
      "text/plain": [
       "array([ 0.9685666 ,  1.74341988,  5.22151795,  4.76932763,  6.34161228,\n",
       "        2.27250423,  3.10401606,  1.41894342,  1.14483366,  0.13845666,\n",
       "        1.27299503,  0.18844984, -2.33424536, -0.47582293,  0.48954817])"
      ]
     },
     "execution_count": 9,
     "metadata": {},
     "output_type": "execute_result"
    }
   ],
   "source": [
    "linreg_coeff"
   ]
  },
  {
   "cell_type": "code",
   "execution_count": 10,
   "id": "493e061b",
   "metadata": {},
   "outputs": [
    {
     "data": {
      "text/plain": [
       "array([ 0.        ,  1.7309199 ,  3.93145036,  3.18600347,  4.26593065,\n",
       "        1.27754125,  1.64825311,  0.66718862,  0.        ,  0.        ,\n",
       "        0.69332269,  0.50395826, -0.16795267,  0.12460803,  0.51203443])"
      ]
     },
     "execution_count": 10,
     "metadata": {},
     "output_type": "execute_result"
    }
   ],
   "source": [
    "lasso_coeff"
   ]
  },
  {
   "cell_type": "code",
   "execution_count": 11,
   "id": "cca11521",
   "metadata": {},
   "outputs": [
    {
     "data": {
      "text/plain": [
       "array([ 0.91896984,  1.65414571,  4.92887767,  4.4403557 ,  5.87073856,\n",
       "        1.96875084,  2.93569229,  1.29697501,  0.99408305,  0.27512059,\n",
       "        1.30718153,  0.37594396, -1.85411535, -0.30988775,  0.53714097])"
      ]
     },
     "execution_count": 11,
     "metadata": {},
     "output_type": "execute_result"
    }
   ],
   "source": [
    "ridge_coeff"
   ]
  }
 ],
 "metadata": {
  "kernelspec": {
   "display_name": "Python 3 (ipykernel)",
   "language": "python",
   "name": "python3"
  },
  "language_info": {
   "codemirror_mode": {
    "name": "ipython",
    "version": 3
   },
   "file_extension": ".py",
   "mimetype": "text/x-python",
   "name": "python",
   "nbconvert_exporter": "python",
   "pygments_lexer": "ipython3",
   "version": "3.9.7"
  }
 },
 "nbformat": 4,
 "nbformat_minor": 5
}
