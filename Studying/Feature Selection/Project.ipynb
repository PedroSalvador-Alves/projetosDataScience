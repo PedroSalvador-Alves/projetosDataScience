{
 "cells": [
  {
   "cell_type": "code",
   "execution_count": null,
   "id": "3cda73bc",
   "metadata": {},
   "outputs": [],
   "source": [
    "###############################################\n",
    "# Author: Pedro Igor Salvador Alves\n",
    "# Topic: Feature Selection\n",
    "# Start Date: 31/12/2021\n",
    "# Type: Data Science - Machine Learning \n",
    "###############################################"
   ]
  },
  {
   "cell_type": "code",
   "execution_count": 2,
   "id": "8fded3e6",
   "metadata": {},
   "outputs": [],
   "source": [
    "import pandas as pd"
   ]
  },
  {
   "cell_type": "code",
   "execution_count": 3,
   "id": "a6cd1d78",
   "metadata": {},
   "outputs": [],
   "source": [
    "dataset = pd.read_csv(\"data/Students2.csv\")"
   ]
  },
  {
   "cell_type": "code",
   "execution_count": 4,
   "id": "d106c995",
   "metadata": {},
   "outputs": [
    {
     "data": {
      "text/html": [
       "<div>\n",
       "<style scoped>\n",
       "    .dataframe tbody tr th:only-of-type {\n",
       "        vertical-align: middle;\n",
       "    }\n",
       "\n",
       "    .dataframe tbody tr th {\n",
       "        vertical-align: top;\n",
       "    }\n",
       "\n",
       "    .dataframe thead th {\n",
       "        text-align: right;\n",
       "    }\n",
       "</style>\n",
       "<table border=\"1\" class=\"dataframe\">\n",
       "  <thead>\n",
       "    <tr style=\"text-align: right;\">\n",
       "      <th></th>\n",
       "      <th>Hours</th>\n",
       "      <th>sHours</th>\n",
       "      <th>hoursplayed</th>\n",
       "      <th>income</th>\n",
       "      <th>distance</th>\n",
       "      <th>calories</th>\n",
       "      <th>Marks</th>\n",
       "    </tr>\n",
       "  </thead>\n",
       "  <tbody>\n",
       "    <tr>\n",
       "      <th>0</th>\n",
       "      <td>0</td>\n",
       "      <td>6</td>\n",
       "      <td>6</td>\n",
       "      <td>146</td>\n",
       "      <td>9</td>\n",
       "      <td>2491</td>\n",
       "      <td>34</td>\n",
       "    </tr>\n",
       "    <tr>\n",
       "      <th>1</th>\n",
       "      <td>1</td>\n",
       "      <td>7</td>\n",
       "      <td>2</td>\n",
       "      <td>112</td>\n",
       "      <td>5</td>\n",
       "      <td>2303</td>\n",
       "      <td>36</td>\n",
       "    </tr>\n",
       "    <tr>\n",
       "      <th>2</th>\n",
       "      <td>1</td>\n",
       "      <td>6</td>\n",
       "      <td>1</td>\n",
       "      <td>84</td>\n",
       "      <td>7</td>\n",
       "      <td>2475</td>\n",
       "      <td>33</td>\n",
       "    </tr>\n",
       "    <tr>\n",
       "      <th>3</th>\n",
       "      <td>1</td>\n",
       "      <td>8</td>\n",
       "      <td>5</td>\n",
       "      <td>134</td>\n",
       "      <td>0</td>\n",
       "      <td>2282</td>\n",
       "      <td>39</td>\n",
       "    </tr>\n",
       "    <tr>\n",
       "      <th>4</th>\n",
       "      <td>1</td>\n",
       "      <td>8</td>\n",
       "      <td>5</td>\n",
       "      <td>104</td>\n",
       "      <td>8</td>\n",
       "      <td>2359</td>\n",
       "      <td>42</td>\n",
       "    </tr>\n",
       "    <tr>\n",
       "      <th>5</th>\n",
       "      <td>2</td>\n",
       "      <td>8</td>\n",
       "      <td>4</td>\n",
       "      <td>80</td>\n",
       "      <td>1</td>\n",
       "      <td>2354</td>\n",
       "      <td>45</td>\n",
       "    </tr>\n",
       "    <tr>\n",
       "      <th>6</th>\n",
       "      <td>2</td>\n",
       "      <td>6</td>\n",
       "      <td>3</td>\n",
       "      <td>93</td>\n",
       "      <td>0</td>\n",
       "      <td>2943</td>\n",
       "      <td>38</td>\n",
       "    </tr>\n",
       "    <tr>\n",
       "      <th>7</th>\n",
       "      <td>3</td>\n",
       "      <td>6</td>\n",
       "      <td>3</td>\n",
       "      <td>83</td>\n",
       "      <td>7</td>\n",
       "      <td>2119</td>\n",
       "      <td>45</td>\n",
       "    </tr>\n",
       "    <tr>\n",
       "      <th>8</th>\n",
       "      <td>3</td>\n",
       "      <td>7</td>\n",
       "      <td>6</td>\n",
       "      <td>139</td>\n",
       "      <td>1</td>\n",
       "      <td>2511</td>\n",
       "      <td>53</td>\n",
       "    </tr>\n",
       "    <tr>\n",
       "      <th>9</th>\n",
       "      <td>3</td>\n",
       "      <td>7</td>\n",
       "      <td>5</td>\n",
       "      <td>138</td>\n",
       "      <td>10</td>\n",
       "      <td>2666</td>\n",
       "      <td>46</td>\n",
       "    </tr>\n",
       "    <tr>\n",
       "      <th>10</th>\n",
       "      <td>3</td>\n",
       "      <td>8</td>\n",
       "      <td>5</td>\n",
       "      <td>98</td>\n",
       "      <td>2</td>\n",
       "      <td>2934</td>\n",
       "      <td>56</td>\n",
       "    </tr>\n",
       "    <tr>\n",
       "      <th>11</th>\n",
       "      <td>4</td>\n",
       "      <td>8</td>\n",
       "      <td>1</td>\n",
       "      <td>90</td>\n",
       "      <td>0</td>\n",
       "      <td>2838</td>\n",
       "      <td>59</td>\n",
       "    </tr>\n",
       "    <tr>\n",
       "      <th>12</th>\n",
       "      <td>4</td>\n",
       "      <td>7</td>\n",
       "      <td>3</td>\n",
       "      <td>140</td>\n",
       "      <td>7</td>\n",
       "      <td>2102</td>\n",
       "      <td>55</td>\n",
       "    </tr>\n",
       "    <tr>\n",
       "      <th>13</th>\n",
       "      <td>4</td>\n",
       "      <td>7</td>\n",
       "      <td>6</td>\n",
       "      <td>144</td>\n",
       "      <td>3</td>\n",
       "      <td>2560</td>\n",
       "      <td>56</td>\n",
       "    </tr>\n",
       "    <tr>\n",
       "      <th>14</th>\n",
       "      <td>5</td>\n",
       "      <td>8</td>\n",
       "      <td>2</td>\n",
       "      <td>144</td>\n",
       "      <td>5</td>\n",
       "      <td>2068</td>\n",
       "      <td>72</td>\n",
       "    </tr>\n",
       "    <tr>\n",
       "      <th>15</th>\n",
       "      <td>5</td>\n",
       "      <td>6</td>\n",
       "      <td>2</td>\n",
       "      <td>119</td>\n",
       "      <td>6</td>\n",
       "      <td>2541</td>\n",
       "      <td>59</td>\n",
       "    </tr>\n",
       "    <tr>\n",
       "      <th>16</th>\n",
       "      <td>6</td>\n",
       "      <td>6</td>\n",
       "      <td>1</td>\n",
       "      <td>140</td>\n",
       "      <td>6</td>\n",
       "      <td>2690</td>\n",
       "      <td>62</td>\n",
       "    </tr>\n",
       "    <tr>\n",
       "      <th>17</th>\n",
       "      <td>6</td>\n",
       "      <td>7</td>\n",
       "      <td>1</td>\n",
       "      <td>85</td>\n",
       "      <td>3</td>\n",
       "      <td>2956</td>\n",
       "      <td>71</td>\n",
       "    </tr>\n",
       "    <tr>\n",
       "      <th>18</th>\n",
       "      <td>7</td>\n",
       "      <td>8</td>\n",
       "      <td>2</td>\n",
       "      <td>140</td>\n",
       "      <td>8</td>\n",
       "      <td>2239</td>\n",
       "      <td>78</td>\n",
       "    </tr>\n",
       "    <tr>\n",
       "      <th>19</th>\n",
       "      <td>7</td>\n",
       "      <td>8</td>\n",
       "      <td>6</td>\n",
       "      <td>107</td>\n",
       "      <td>0</td>\n",
       "      <td>2703</td>\n",
       "      <td>88</td>\n",
       "    </tr>\n",
       "    <tr>\n",
       "      <th>20</th>\n",
       "      <td>7</td>\n",
       "      <td>6</td>\n",
       "      <td>5</td>\n",
       "      <td>85</td>\n",
       "      <td>7</td>\n",
       "      <td>2603</td>\n",
       "      <td>61</td>\n",
       "    </tr>\n",
       "    <tr>\n",
       "      <th>21</th>\n",
       "      <td>7</td>\n",
       "      <td>6</td>\n",
       "      <td>3</td>\n",
       "      <td>109</td>\n",
       "      <td>0</td>\n",
       "      <td>2031</td>\n",
       "      <td>74</td>\n",
       "    </tr>\n",
       "    <tr>\n",
       "      <th>22</th>\n",
       "      <td>8</td>\n",
       "      <td>7</td>\n",
       "      <td>5</td>\n",
       "      <td>108</td>\n",
       "      <td>0</td>\n",
       "      <td>2885</td>\n",
       "      <td>71</td>\n",
       "    </tr>\n",
       "    <tr>\n",
       "      <th>23</th>\n",
       "      <td>8</td>\n",
       "      <td>8</td>\n",
       "      <td>1</td>\n",
       "      <td>150</td>\n",
       "      <td>8</td>\n",
       "      <td>2153</td>\n",
       "      <td>89</td>\n",
       "    </tr>\n",
       "    <tr>\n",
       "      <th>24</th>\n",
       "      <td>9</td>\n",
       "      <td>8</td>\n",
       "      <td>4</td>\n",
       "      <td>150</td>\n",
       "      <td>9</td>\n",
       "      <td>2384</td>\n",
       "      <td>82</td>\n",
       "    </tr>\n",
       "    <tr>\n",
       "      <th>25</th>\n",
       "      <td>9</td>\n",
       "      <td>5</td>\n",
       "      <td>5</td>\n",
       "      <td>84</td>\n",
       "      <td>10</td>\n",
       "      <td>2882</td>\n",
       "      <td>67</td>\n",
       "    </tr>\n",
       "    <tr>\n",
       "      <th>26</th>\n",
       "      <td>9</td>\n",
       "      <td>8</td>\n",
       "      <td>5</td>\n",
       "      <td>127</td>\n",
       "      <td>5</td>\n",
       "      <td>2271</td>\n",
       "      <td>89</td>\n",
       "    </tr>\n",
       "    <tr>\n",
       "      <th>27</th>\n",
       "      <td>10</td>\n",
       "      <td>8</td>\n",
       "      <td>6</td>\n",
       "      <td>95</td>\n",
       "      <td>6</td>\n",
       "      <td>2264</td>\n",
       "      <td>81</td>\n",
       "    </tr>\n",
       "    <tr>\n",
       "      <th>28</th>\n",
       "      <td>10</td>\n",
       "      <td>8</td>\n",
       "      <td>5</td>\n",
       "      <td>72</td>\n",
       "      <td>5</td>\n",
       "      <td>2522</td>\n",
       "      <td>82</td>\n",
       "    </tr>\n",
       "    <tr>\n",
       "      <th>29</th>\n",
       "      <td>11</td>\n",
       "      <td>7</td>\n",
       "      <td>3</td>\n",
       "      <td>89</td>\n",
       "      <td>3</td>\n",
       "      <td>2279</td>\n",
       "      <td>79</td>\n",
       "    </tr>\n",
       "  </tbody>\n",
       "</table>\n",
       "</div>"
      ],
      "text/plain": [
       "    Hours  sHours  hoursplayed  income  distance  calories  Marks\n",
       "0       0       6            6     146         9      2491     34\n",
       "1       1       7            2     112         5      2303     36\n",
       "2       1       6            1      84         7      2475     33\n",
       "3       1       8            5     134         0      2282     39\n",
       "4       1       8            5     104         8      2359     42\n",
       "5       2       8            4      80         1      2354     45\n",
       "6       2       6            3      93         0      2943     38\n",
       "7       3       6            3      83         7      2119     45\n",
       "8       3       7            6     139         1      2511     53\n",
       "9       3       7            5     138        10      2666     46\n",
       "10      3       8            5      98         2      2934     56\n",
       "11      4       8            1      90         0      2838     59\n",
       "12      4       7            3     140         7      2102     55\n",
       "13      4       7            6     144         3      2560     56\n",
       "14      5       8            2     144         5      2068     72\n",
       "15      5       6            2     119         6      2541     59\n",
       "16      6       6            1     140         6      2690     62\n",
       "17      6       7            1      85         3      2956     71\n",
       "18      7       8            2     140         8      2239     78\n",
       "19      7       8            6     107         0      2703     88\n",
       "20      7       6            5      85         7      2603     61\n",
       "21      7       6            3     109         0      2031     74\n",
       "22      8       7            5     108         0      2885     71\n",
       "23      8       8            1     150         8      2153     89\n",
       "24      9       8            4     150         9      2384     82\n",
       "25      9       5            5      84        10      2882     67\n",
       "26      9       8            5     127         5      2271     89\n",
       "27     10       8            6      95         6      2264     81\n",
       "28     10       8            5      72         5      2522     82\n",
       "29     11       7            3      89         3      2279     79"
      ]
     },
     "execution_count": 4,
     "metadata": {},
     "output_type": "execute_result"
    }
   ],
   "source": [
    "dataset"
   ]
  },
  {
   "cell_type": "code",
   "execution_count": 6,
   "id": "7a1627a3",
   "metadata": {},
   "outputs": [],
   "source": [
    "X = dataset.iloc[:, :-1]\n",
    "Y = dataset.iloc[:, -1]"
   ]
  },
  {
   "cell_type": "code",
   "execution_count": 7,
   "id": "52a1fdee",
   "metadata": {},
   "outputs": [],
   "source": [
    "#linear regression\n",
    "from sklearn.linear_model import LinearRegression\n",
    "\n",
    "lireg = LinearRegression()"
   ]
  },
  {
   "cell_type": "code",
   "execution_count": 8,
   "id": "86aa48cc",
   "metadata": {},
   "outputs": [],
   "source": [
    "from sklearn.model_selection import train_test_split\n",
    "\n",
    "X_train, X_test, Y_train, Y_test = train_test_split(X, Y, test_size = 0.4, random_state = 157, )"
   ]
  },
  {
   "cell_type": "code",
   "execution_count": 9,
   "id": "368e1522",
   "metadata": {},
   "outputs": [],
   "source": [
    "lireg.fit(X_train, Y_train)\n",
    "\n",
    "Y_predict = lireg.predict(X_test)"
   ]
  },
  {
   "cell_type": "code",
   "execution_count": 16,
   "id": "7dcbbea7",
   "metadata": {},
   "outputs": [],
   "source": [
    "#import f regression (numerical)\n",
    "from sklearn.feature_selection import f_regression as fr\n",
    "\n",
    "result = fr(X, Y)"
   ]
  },
  {
   "cell_type": "code",
   "execution_count": 17,
   "id": "07c68e2e",
   "metadata": {},
   "outputs": [],
   "source": [
    "f_score = result[0]\n",
    "p_value = result[1]\n",
    "columns = list(X.columns)"
   ]
  },
  {
   "cell_type": "code",
   "execution_count": 20,
   "id": "4e9fd3a0",
   "metadata": {},
   "outputs": [
    {
     "name": "stdout",
     "output_type": "stream",
     "text": [
      "    Feature     F-Score     P-Value\n",
      "    --------    ---------    --------\n",
      "    Hours          141.91      0.000000\n",
      "    sHours           4.57      0.041403\n",
      "    hoursplayed      0.00      0.969907\n",
      "    income           0.16      0.692200\n",
      "    distance         0.00      0.955528\n",
      "    calories         0.40      0.530086\n"
     ]
    }
   ],
   "source": [
    "print(\"    Feature    \", \"F-Score    \", \"P-Value\")\n",
    "print(\"    --------    ---------    --------\")\n",
    "\n",
    "for i in range(len(columns)):\n",
    "    f = \"%4.2f\"%f_score[i]\n",
    "    p = \"%2.6f\"%p_value[i]\n",
    "    print(\"   \", columns[i].ljust(12), f.rjust(8), \"    \", p.rjust(8))"
   ]
  },
  {
   "cell_type": "code",
   "execution_count": 22,
   "id": "40ada9c4",
   "metadata": {},
   "outputs": [],
   "source": [
    "new_X_train = X_train[['Hours', 'sHours']]\n",
    "new_X_test = X_test[['Hours', 'sHours']]\n",
    "\n",
    "new_lireg = LinearRegression()\n",
    "\n",
    "new_lireg.fit(new_X_train, Y_train)\n",
    "\n",
    "new_Y_predict = new_lireg.predict(new_X_test)"
   ]
  },
  {
   "cell_type": "code",
   "execution_count": 24,
   "id": "3ded4562",
   "metadata": {},
   "outputs": [
    {
     "data": {
      "text/plain": [
       "0.8898039960305234"
      ]
     },
     "execution_count": 24,
     "metadata": {},
     "output_type": "execute_result"
    }
   ],
   "source": [
    "new_lireg.score(new_X_test, Y_test)"
   ]
  },
  {
   "cell_type": "code",
   "execution_count": 25,
   "id": "2efa25e3",
   "metadata": {},
   "outputs": [
    {
     "data": {
      "text/plain": [
       "0.8472443612007267"
      ]
     },
     "execution_count": 25,
     "metadata": {},
     "output_type": "execute_result"
    }
   ],
   "source": [
    "lireg.score(X_test, Y_test)"
   ]
  },
  {
   "cell_type": "markdown",
   "id": "2e69bf68",
   "metadata": {},
   "source": [
    "# Starting Again"
   ]
  },
  {
   "cell_type": "code",
   "execution_count": 26,
   "id": "e5967f8d",
   "metadata": {},
   "outputs": [],
   "source": [
    "import pandas as pd\n",
    "\n",
    "dataset = pd.read_csv(\"data/Students2.csv\")\n",
    "\n",
    "X = dataset.iloc[:, :-1]\n",
    "Y = dataset.iloc[:, -1]"
   ]
  },
  {
   "cell_type": "code",
   "execution_count": 27,
   "id": "d66184b7",
   "metadata": {},
   "outputs": [],
   "source": [
    "from sklearn.feature_selection import SelectKBest, SelectPercentile, GenericUnivariateSelect, f_regression"
   ]
  },
  {
   "cell_type": "code",
   "execution_count": 28,
   "id": "f2e1dd5c",
   "metadata": {},
   "outputs": [],
   "source": [
    "#select k best\n",
    "selectK = SelectKBest(score_func=f_regression, k=3)"
   ]
  },
  {
   "cell_type": "code",
   "execution_count": 29,
   "id": "dab17ecc",
   "metadata": {},
   "outputs": [],
   "source": [
    "X_k = selectK.fit_transform(X, Y)"
   ]
  },
  {
   "cell_type": "code",
   "execution_count": 30,
   "id": "a848b9d5",
   "metadata": {},
   "outputs": [
    {
     "data": {
      "text/plain": [
       "array([[   0,    6, 2491],\n",
       "       [   1,    7, 2303],\n",
       "       [   1,    6, 2475],\n",
       "       [   1,    8, 2282],\n",
       "       [   1,    8, 2359],\n",
       "       [   2,    8, 2354],\n",
       "       [   2,    6, 2943],\n",
       "       [   3,    6, 2119],\n",
       "       [   3,    7, 2511],\n",
       "       [   3,    7, 2666],\n",
       "       [   3,    8, 2934],\n",
       "       [   4,    8, 2838],\n",
       "       [   4,    7, 2102],\n",
       "       [   4,    7, 2560],\n",
       "       [   5,    8, 2068],\n",
       "       [   5,    6, 2541],\n",
       "       [   6,    6, 2690],\n",
       "       [   6,    7, 2956],\n",
       "       [   7,    8, 2239],\n",
       "       [   7,    8, 2703],\n",
       "       [   7,    6, 2603],\n",
       "       [   7,    6, 2031],\n",
       "       [   8,    7, 2885],\n",
       "       [   8,    8, 2153],\n",
       "       [   9,    8, 2384],\n",
       "       [   9,    5, 2882],\n",
       "       [   9,    8, 2271],\n",
       "       [  10,    8, 2264],\n",
       "       [  10,    8, 2522],\n",
       "       [  11,    7, 2279]], dtype=int64)"
      ]
     },
     "execution_count": 30,
     "metadata": {},
     "output_type": "execute_result"
    }
   ],
   "source": [
    "X_k"
   ]
  },
  {
   "cell_type": "code",
   "execution_count": 33,
   "id": "2e218f0d",
   "metadata": {},
   "outputs": [],
   "source": [
    "f = selectK.scores_\n",
    "p = selectK.pvalues_\n",
    "columns = list(X.columns)"
   ]
  },
  {
   "cell_type": "code",
   "execution_count": 34,
   "id": "f4dc90fe",
   "metadata": {},
   "outputs": [
    {
     "name": "stdout",
     "output_type": "stream",
     "text": [
      "    Feature     F-Score     P-Value\n",
      "    --------    ---------    --------\n",
      "    Hours          141.91      0.000000\n",
      "    sHours           4.57      0.041403\n",
      "    hoursplayed      0.00      0.969907\n",
      "    income           0.16      0.692200\n",
      "    distance         0.00      0.955528\n",
      "    calories         0.40      0.530086\n"
     ]
    }
   ],
   "source": [
    "print(\"    Feature    \", \"F-Score    \", \"P-Value\")\n",
    "print(\"    --------    ---------    --------\")\n",
    "\n",
    "for i in range(len(columns)):\n",
    "    f = \"%4.2f\"%f_score[i]\n",
    "    p = \"%2.6f\"%p_value[i]\n",
    "    print(\"   \", columns[i].ljust(12), f.rjust(8), \"    \", p.rjust(8))"
   ]
  },
  {
   "cell_type": "code",
   "execution_count": 36,
   "id": "ae4b9cde",
   "metadata": {},
   "outputs": [
    {
     "data": {
      "text/plain": [
       "['Hours', 'sHours', 'calories']"
      ]
     },
     "execution_count": 36,
     "metadata": {},
     "output_type": "execute_result"
    }
   ],
   "source": [
    "cols = selectK.get_support(indices=True)\n",
    "X.columns[cols].tolist()"
   ]
  },
  {
   "cell_type": "code",
   "execution_count": 38,
   "id": "5027c780",
   "metadata": {},
   "outputs": [],
   "source": [
    "#select percentile\n",
    "selectP = SelectPercentile(score_func=f_regression, percentile=50)\n",
    "X_p = selectP.fit_transform(X, Y)"
   ]
  },
  {
   "cell_type": "code",
   "execution_count": 39,
   "id": "07370d98",
   "metadata": {},
   "outputs": [],
   "source": [
    "f = selectP.scores_\n",
    "p = selectP.pvalues_\n",
    "columns = list(X.columns)"
   ]
  },
  {
   "cell_type": "code",
   "execution_count": 40,
   "id": "25d89e53",
   "metadata": {},
   "outputs": [
    {
     "name": "stdout",
     "output_type": "stream",
     "text": [
      "    Feature     F-Score     P-Value\n",
      "    --------    ---------    --------\n",
      "    Hours          141.91      0.000000\n",
      "    sHours           4.57      0.041403\n",
      "    hoursplayed      0.00      0.969907\n",
      "    income           0.16      0.692200\n",
      "    distance         0.00      0.955528\n",
      "    calories         0.40      0.530086\n"
     ]
    }
   ],
   "source": [
    "print(\"    Feature    \", \"F-Score    \", \"P-Value\")\n",
    "print(\"    --------    ---------    --------\")\n",
    "\n",
    "for i in range(len(columns)):\n",
    "    f = \"%4.2f\"%f_score[i]\n",
    "    p = \"%2.6f\"%p_value[i]\n",
    "    print(\"   \", columns[i].ljust(12), f.rjust(8), \"    \", p.rjust(8))"
   ]
  },
  {
   "cell_type": "code",
   "execution_count": 41,
   "id": "0acd0afc",
   "metadata": {},
   "outputs": [],
   "source": [
    "#generic univariate transform\n",
    "selectG1 = GenericUnivariateSelect(score_func=f_regression, mode='k_best', param=3)\n",
    "X_g1 = selectG1.fit_transform(X, Y)\n",
    "\n",
    "selectG2 = GenericUnivariateSelect(score_func=f_regression, mode='percentile', param=50)\n",
    "X_g2 = selectG2.fit_transform(X, Y)"
   ]
  }
 ],
 "metadata": {
  "kernelspec": {
   "display_name": "Python 3 (ipykernel)",
   "language": "python",
   "name": "python3"
  },
  "language_info": {
   "codemirror_mode": {
    "name": "ipython",
    "version": 3
   },
   "file_extension": ".py",
   "mimetype": "text/x-python",
   "name": "python",
   "nbconvert_exporter": "python",
   "pygments_lexer": "ipython3",
   "version": "3.9.7"
  }
 },
 "nbformat": 4,
 "nbformat_minor": 5
}
